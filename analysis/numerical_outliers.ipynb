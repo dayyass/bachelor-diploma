{
 "cells": [
  {
   "cell_type": "code",
   "execution_count": 1,
   "metadata": {},
   "outputs": [],
   "source": [
    "import pandas as pd\n",
    "\n",
    "from outliers import mahalanobis_outlier_test\n",
    "from utils import load_train_test"
   ]
  },
  {
   "cell_type": "code",
   "execution_count": 2,
   "metadata": {},
   "outputs": [],
   "source": [
    "train_filename = \"application_train_numerical.csv\"\n",
    "path_to_data = \"../data/\""
   ]
  },
  {
   "cell_type": "markdown",
   "metadata": {},
   "source": [
    "### load train numerical"
   ]
  },
  {
   "cell_type": "code",
   "execution_count": 3,
   "metadata": {},
   "outputs": [],
   "source": [
    "df_application_train_numerical = load_train_test(\n",
    "    filename=train_filename,\n",
    "    path_to_train_folder=path_to_data,\n",
    ")\n",
    "df_application_train_numerical.drop(\"TARGET\", axis=1, inplace=True)\n",
    "df_application_train_numerical.dropna(inplace=True)"
   ]
  },
  {
   "cell_type": "markdown",
   "metadata": {},
   "source": [
    "### mahalanobis"
   ]
  },
  {
   "cell_type": "code",
   "execution_count": 4,
   "metadata": {},
   "outputs": [
    {
     "name": "stderr",
     "output_type": "stream",
     "text": [
      "100%|██████████| 11351/11351 [00:04<00:00, 2337.27it/s]\n"
     ]
    }
   ],
   "source": [
    "distance_vector, t2_statistic_vector, f_statistic_vector, p_value_vector = mahalanobis_outlier_test(\n",
    "    df_application_train_numerical,\n",
    "    verbose=True,\n",
    ")"
   ]
  },
  {
   "cell_type": "code",
   "execution_count": 5,
   "metadata": {},
   "outputs": [],
   "source": [
    "mahalanobis_df = pd.DataFrame(\n",
    "    {\n",
    "        \"distance\": distance_vector,\n",
    "        \"t2_statistic\": t2_statistic_vector,\n",
    "        \"f_statistic\": f_statistic_vector,\n",
    "        \"p_value\": p_value_vector,\n",
    "    },\n",
    "    index=df_application_train_numerical.index,\n",
    ")"
   ]
  },
  {
   "cell_type": "code",
   "execution_count": 6,
   "metadata": {},
   "outputs": [
    {
     "data": {
      "text/html": [
       "<div>\n",
       "<style scoped>\n",
       "    .dataframe tbody tr th:only-of-type {\n",
       "        vertical-align: middle;\n",
       "    }\n",
       "\n",
       "    .dataframe tbody tr th {\n",
       "        vertical-align: top;\n",
       "    }\n",
       "\n",
       "    .dataframe thead th {\n",
       "        text-align: right;\n",
       "    }\n",
       "</style>\n",
       "<table border=\"1\" class=\"dataframe\">\n",
       "  <thead>\n",
       "    <tr style=\"text-align: right;\">\n",
       "      <th></th>\n",
       "      <th>distance</th>\n",
       "      <th>t2_statistic</th>\n",
       "      <th>f_statistic</th>\n",
       "      <th>p_value</th>\n",
       "    </tr>\n",
       "    <tr>\n",
       "      <th>SK_ID_CURR</th>\n",
       "      <th></th>\n",
       "      <th></th>\n",
       "      <th></th>\n",
       "      <th></th>\n",
       "    </tr>\n",
       "  </thead>\n",
       "  <tbody>\n",
       "    <tr>\n",
       "      <th>100083</th>\n",
       "      <td>5.893177</td>\n",
       "      <td>5.892658</td>\n",
       "      <td>5.856834</td>\n",
       "      <td>1.110223e-16</td>\n",
       "    </tr>\n",
       "    <tr>\n",
       "      <th>100145</th>\n",
       "      <td>4.852237</td>\n",
       "      <td>4.851809</td>\n",
       "      <td>4.822314</td>\n",
       "      <td>1.110223e-16</td>\n",
       "    </tr>\n",
       "    <tr>\n",
       "      <th>100165</th>\n",
       "      <td>5.655791</td>\n",
       "      <td>5.655292</td>\n",
       "      <td>5.620912</td>\n",
       "      <td>1.110223e-16</td>\n",
       "    </tr>\n",
       "    <tr>\n",
       "      <th>100179</th>\n",
       "      <td>14.617473</td>\n",
       "      <td>14.616185</td>\n",
       "      <td>14.527329</td>\n",
       "      <td>1.110223e-16</td>\n",
       "    </tr>\n",
       "    <tr>\n",
       "      <th>100190</th>\n",
       "      <td>6.745754</td>\n",
       "      <td>6.745160</td>\n",
       "      <td>6.704154</td>\n",
       "      <td>1.110223e-16</td>\n",
       "    </tr>\n",
       "  </tbody>\n",
       "</table>\n",
       "</div>"
      ],
      "text/plain": [
       "             distance  t2_statistic  f_statistic       p_value\n",
       "SK_ID_CURR                                                    \n",
       "100083       5.893177      5.892658     5.856834  1.110223e-16\n",
       "100145       4.852237      4.851809     4.822314  1.110223e-16\n",
       "100165       5.655791      5.655292     5.620912  1.110223e-16\n",
       "100179      14.617473     14.616185    14.527329  1.110223e-16\n",
       "100190       6.745754      6.745160     6.704154  1.110223e-16"
      ]
     },
     "execution_count": 6,
     "metadata": {},
     "output_type": "execute_result"
    }
   ],
   "source": [
    "mahalanobis_df.head()"
   ]
  },
  {
   "cell_type": "code",
   "execution_count": null,
   "metadata": {},
   "outputs": [],
   "source": []
  }
 ],
 "metadata": {
  "kernelspec": {
   "display_name": "Python 3",
   "language": "python",
   "name": "python3"
  },
  "language_info": {
   "codemirror_mode": {
    "name": "ipython",
    "version": 3
   },
   "file_extension": ".py",
   "mimetype": "text/x-python",
   "name": "python",
   "nbconvert_exporter": "python",
   "pygments_lexer": "ipython3",
   "version": "3.9.1"
  }
 },
 "nbformat": 4,
 "nbformat_minor": 2
}
