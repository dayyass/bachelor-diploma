{
 "cells": [
  {
   "cell_type": "code",
   "execution_count": 1,
   "metadata": {},
   "outputs": [],
   "source": [
    "from stats_test import hotelling_t2_1samp_test, hotelling_t2_2samp_test\n",
    "from utils import load_train_test"
   ]
  },
  {
   "cell_type": "code",
   "execution_count": 2,
   "metadata": {},
   "outputs": [],
   "source": [
    "train_filename = \"application_train_numerical.csv\"\n",
    "test_filename = \"application_test_numerical.csv\"\n",
    "path_to_data = \"../data/\""
   ]
  },
  {
   "cell_type": "markdown",
   "metadata": {},
   "source": [
    "### load train/test numerical"
   ]
  },
  {
   "cell_type": "code",
   "execution_count": 3,
   "metadata": {},
   "outputs": [],
   "source": [
    "df_application_train_numerical = load_train_test(\n",
    "    filename=train_filename,\n",
    "    path_to_train_folder=path_to_data,\n",
    ")\n",
    "df_application_test_numerical = load_train_test(\n",
    "    filename=test_filename,\n",
    "    path_to_train_folder=path_to_data,\n",
    ")"
   ]
  },
  {
   "cell_type": "markdown",
   "metadata": {},
   "source": [
    "### hotelling test"
   ]
  },
  {
   "cell_type": "code",
   "execution_count": 4,
   "metadata": {},
   "outputs": [
    {
     "name": "stdout",
     "output_type": "stream",
     "text": [
      "p-value: 0.0\n"
     ]
    }
   ],
   "source": [
    "_, _, p_value = hotelling_t2_1samp_test(\n",
    "    X=df_application_test_numerical.dropna(),\n",
    "    mu=df_application_test_numerical.mean(axis=0),\n",
    ")\n",
    "print(f\"p-value: {round(p_value, 3)}\")"
   ]
  },
  {
   "cell_type": "code",
   "execution_count": 5,
   "metadata": {},
   "outputs": [
    {
     "name": "stdout",
     "output_type": "stream",
     "text": [
      "p-value: 0.0\n"
     ]
    }
   ],
   "source": [
    "_, _, p_value = hotelling_t2_2samp_test(\n",
    "    X=df_application_train_numerical.loc[:, df_application_train_numerical.columns != 'TARGET'].dropna(),\n",
    "    Y=df_application_test_numerical.dropna(),\n",
    ")\n",
    "print(f\"p-value: {round(p_value, 3)}\")"
   ]
  },
  {
   "cell_type": "code",
   "execution_count": null,
   "metadata": {},
   "outputs": [],
   "source": []
  }
 ],
 "metadata": {
  "kernelspec": {
   "display_name": "Python 3",
   "language": "python",
   "name": "python3"
  },
  "language_info": {
   "codemirror_mode": {
    "name": "ipython",
    "version": 3
   },
   "file_extension": ".py",
   "mimetype": "text/x-python",
   "name": "python",
   "nbconvert_exporter": "python",
   "pygments_lexer": "ipython3",
   "version": "3.9.1"
  }
 },
 "nbformat": 4,
 "nbformat_minor": 2
}
