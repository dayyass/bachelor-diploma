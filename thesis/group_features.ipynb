{
 "cells": [
  {
   "cell_type": "code",
   "execution_count": 1,
   "metadata": {},
   "outputs": [],
   "source": [
    "import pandas as pd\n",
    "\n",
    "from utils import path_join, load_train_test"
   ]
  },
  {
   "cell_type": "code",
   "execution_count": 2,
   "metadata": {},
   "outputs": [],
   "source": [
    "train_filename = \"application_train.csv\"\n",
    "test_filename = \"application_test.csv\"\n",
    "path_to_data = \"../data/\""
   ]
  },
  {
   "cell_type": "markdown",
   "metadata": {},
   "source": [
    "### load train/test"
   ]
  },
  {
   "cell_type": "code",
   "execution_count": 3,
   "metadata": {},
   "outputs": [],
   "source": [
    "df_application_train = load_train_test(\n",
    "    filename=train_filename,\n",
    "    path_to_train_folder=path_to_data,\n",
    ")\n",
    "df_application_test = load_train_test(\n",
    "    filename=test_filename,\n",
    "    path_to_train_folder=path_to_data,\n",
    ")"
   ]
  },
  {
   "cell_type": "markdown",
   "metadata": {},
   "source": [
    "### binary features"
   ]
  },
  {
   "cell_type": "code",
   "execution_count": 4,
   "metadata": {},
   "outputs": [],
   "source": [
    "binary_columns = df_application_train.columns[df_application_train.nunique() == 2].tolist()"
   ]
  },
  {
   "cell_type": "code",
   "execution_count": 5,
   "metadata": {},
   "outputs": [
    {
     "name": "stdout",
     "output_type": "stream",
     "text": [
      "number of binary features: 37\n"
     ]
    }
   ],
   "source": [
    "print(f\"number of binary features: {len(binary_columns)}\")"
   ]
  },
  {
   "cell_type": "code",
   "execution_count": 6,
   "metadata": {
    "scrolled": true
   },
   "outputs": [
    {
     "data": {
      "text/plain": [
       "['TARGET',\n",
       " 'NAME_CONTRACT_TYPE',\n",
       " 'FLAG_OWN_CAR',\n",
       " 'FLAG_OWN_REALTY',\n",
       " 'FLAG_MOBIL',\n",
       " 'FLAG_EMP_PHONE',\n",
       " 'FLAG_WORK_PHONE',\n",
       " 'FLAG_CONT_MOBILE',\n",
       " 'FLAG_PHONE',\n",
       " 'FLAG_EMAIL',\n",
       " 'REG_REGION_NOT_LIVE_REGION',\n",
       " 'REG_REGION_NOT_WORK_REGION',\n",
       " 'LIVE_REGION_NOT_WORK_REGION',\n",
       " 'REG_CITY_NOT_LIVE_CITY',\n",
       " 'REG_CITY_NOT_WORK_CITY',\n",
       " 'LIVE_CITY_NOT_WORK_CITY',\n",
       " 'EMERGENCYSTATE_MODE',\n",
       " 'FLAG_DOCUMENT_2',\n",
       " 'FLAG_DOCUMENT_3',\n",
       " 'FLAG_DOCUMENT_4',\n",
       " 'FLAG_DOCUMENT_5',\n",
       " 'FLAG_DOCUMENT_6',\n",
       " 'FLAG_DOCUMENT_7',\n",
       " 'FLAG_DOCUMENT_8',\n",
       " 'FLAG_DOCUMENT_9',\n",
       " 'FLAG_DOCUMENT_10',\n",
       " 'FLAG_DOCUMENT_11',\n",
       " 'FLAG_DOCUMENT_12',\n",
       " 'FLAG_DOCUMENT_13',\n",
       " 'FLAG_DOCUMENT_14',\n",
       " 'FLAG_DOCUMENT_15',\n",
       " 'FLAG_DOCUMENT_16',\n",
       " 'FLAG_DOCUMENT_17',\n",
       " 'FLAG_DOCUMENT_18',\n",
       " 'FLAG_DOCUMENT_19',\n",
       " 'FLAG_DOCUMENT_20',\n",
       " 'FLAG_DOCUMENT_21']"
      ]
     },
     "execution_count": 6,
     "metadata": {},
     "output_type": "execute_result"
    }
   ],
   "source": [
    "binary_columns"
   ]
  },
  {
   "cell_type": "code",
   "execution_count": 7,
   "metadata": {},
   "outputs": [],
   "source": [
    "# target included\n",
    "df_application_train[binary_columns].to_csv(\n",
    "    path_join(\n",
    "        filename='application_train_binary.csv',\n",
    "        path_to_folder=path_to_data,\n",
    "    )\n",
    ")\n",
    "\n",
    "# target excluded\n",
    "df_application_test[binary_columns[1:]].to_csv(\n",
    "    path_join(\n",
    "        filename='application_test_binary.csv',\n",
    "        path_to_folder=path_to_data,\n",
    "    )\n",
    ")"
   ]
  },
  {
   "cell_type": "markdown",
   "metadata": {},
   "source": [
    "### categorical features"
   ]
  },
  {
   "cell_type": "code",
   "execution_count": 8,
   "metadata": {},
   "outputs": [],
   "source": [
    "categorical_columns = [\n",
    "    'CODE_GENDER',\n",
    "    \n",
    "    'NAME_TYPE_SUITE',\n",
    "    'NAME_INCOME_TYPE',\n",
    "    'NAME_EDUCATION_TYPE',\n",
    "    'NAME_FAMILY_STATUS',\n",
    "    'NAME_HOUSING_TYPE',\n",
    "               \n",
    "    'OCCUPATION_TYPE',\n",
    "    'REGION_RATING_CLIENT',\n",
    "    'REGION_RATING_CLIENT_W_CITY',\n",
    "    'WEEKDAY_APPR_PROCESS_START',\n",
    "    'ORGANIZATION_TYPE',\n",
    "    'FONDKAPREMONT_MODE',\n",
    "    'HOUSETYPE_MODE',\n",
    "    'WALLSMATERIAL_MODE',\n",
    "]"
   ]
  },
  {
   "cell_type": "code",
   "execution_count": 9,
   "metadata": {},
   "outputs": [
    {
     "name": "stdout",
     "output_type": "stream",
     "text": [
      "number of categorical features: 14\n"
     ]
    }
   ],
   "source": [
    "print(f\"number of categorical features: {len(categorical_columns)}\")"
   ]
  },
  {
   "cell_type": "code",
   "execution_count": 10,
   "metadata": {
    "scrolled": true
   },
   "outputs": [
    {
     "data": {
      "text/plain": [
       "['CODE_GENDER',\n",
       " 'NAME_TYPE_SUITE',\n",
       " 'NAME_INCOME_TYPE',\n",
       " 'NAME_EDUCATION_TYPE',\n",
       " 'NAME_FAMILY_STATUS',\n",
       " 'NAME_HOUSING_TYPE',\n",
       " 'OCCUPATION_TYPE',\n",
       " 'REGION_RATING_CLIENT',\n",
       " 'REGION_RATING_CLIENT_W_CITY',\n",
       " 'WEEKDAY_APPR_PROCESS_START',\n",
       " 'ORGANIZATION_TYPE',\n",
       " 'FONDKAPREMONT_MODE',\n",
       " 'HOUSETYPE_MODE',\n",
       " 'WALLSMATERIAL_MODE']"
      ]
     },
     "execution_count": 10,
     "metadata": {},
     "output_type": "execute_result"
    }
   ],
   "source": [
    "categorical_columns"
   ]
  },
  {
   "cell_type": "code",
   "execution_count": 11,
   "metadata": {},
   "outputs": [],
   "source": [
    "# add target column\n",
    "df_application_train[['TARGET'] + categorical_columns].to_csv(\n",
    "    path_join(\n",
    "        filename='application_train_categorical.csv',\n",
    "        path_to_folder=path_to_data,\n",
    "    )\n",
    ")\n",
    "\n",
    "df_application_test[categorical_columns].to_csv(\n",
    "    path_join(\n",
    "        filename='application_test_categorical.csv',\n",
    "        path_to_folder=path_to_data,\n",
    "    )\n",
    ")"
   ]
  },
  {
   "cell_type": "markdown",
   "metadata": {},
   "source": [
    "### numerical features"
   ]
  },
  {
   "cell_type": "code",
   "execution_count": 12,
   "metadata": {},
   "outputs": [],
   "source": [
    "numerical_columns = list(\n",
    "    set(df_application_train.columns) - set(binary_columns + categorical_columns)\n",
    ")"
   ]
  },
  {
   "cell_type": "code",
   "execution_count": 13,
   "metadata": {},
   "outputs": [
    {
     "name": "stdout",
     "output_type": "stream",
     "text": [
      "number of numerical features: 70\n"
     ]
    }
   ],
   "source": [
    "print(f\"number of numerical features: {len(numerical_columns)}\")"
   ]
  },
  {
   "cell_type": "code",
   "execution_count": 14,
   "metadata": {
    "scrolled": true
   },
   "outputs": [
    {
     "data": {
      "text/plain": [
       "['HOUR_APPR_PROCESS_START',\n",
       " 'NONLIVINGAREA_MODE',\n",
       " 'LIVINGAREA_MEDI',\n",
       " 'DAYS_EMPLOYED',\n",
       " 'YEARS_BEGINEXPLUATATION_MEDI',\n",
       " 'DAYS_LAST_PHONE_CHANGE',\n",
       " 'NONLIVINGAPARTMENTS_MODE',\n",
       " 'LIVINGAPARTMENTS_AVG',\n",
       " 'LIVINGAPARTMENTS_MODE',\n",
       " 'FLOORSMIN_AVG',\n",
       " 'AMT_REQ_CREDIT_BUREAU_YEAR',\n",
       " 'FLOORSMAX_MODE',\n",
       " 'EXT_SOURCE_1',\n",
       " 'NONLIVINGAPARTMENTS_MEDI',\n",
       " 'ENTRANCES_MEDI',\n",
       " 'APARTMENTS_MODE',\n",
       " 'COMMONAREA_MODE',\n",
       " 'LANDAREA_MODE',\n",
       " 'LIVINGAPARTMENTS_MEDI',\n",
       " 'ELEVATORS_MEDI',\n",
       " 'ELEVATORS_MODE',\n",
       " 'REGION_POPULATION_RELATIVE',\n",
       " 'OBS_30_CNT_SOCIAL_CIRCLE',\n",
       " 'NONLIVINGAPARTMENTS_AVG',\n",
       " 'COMMONAREA_AVG',\n",
       " 'YEARS_BEGINEXPLUATATION_AVG',\n",
       " 'AMT_REQ_CREDIT_BUREAU_QRT',\n",
       " 'BASEMENTAREA_MEDI',\n",
       " 'FLOORSMAX_AVG',\n",
       " 'DAYS_BIRTH',\n",
       " 'BASEMENTAREA_MODE',\n",
       " 'DAYS_REGISTRATION',\n",
       " 'OWN_CAR_AGE',\n",
       " 'FLOORSMIN_MEDI',\n",
       " 'YEARS_BUILD_MEDI',\n",
       " 'APARTMENTS_MEDI',\n",
       " 'ELEVATORS_AVG',\n",
       " 'AMT_REQ_CREDIT_BUREAU_HOUR',\n",
       " 'LANDAREA_AVG',\n",
       " 'AMT_GOODS_PRICE',\n",
       " 'APARTMENTS_AVG',\n",
       " 'OBS_60_CNT_SOCIAL_CIRCLE',\n",
       " 'YEARS_BUILD_AVG',\n",
       " 'AMT_CREDIT',\n",
       " 'TOTALAREA_MODE',\n",
       " 'EXT_SOURCE_3',\n",
       " 'YEARS_BUILD_MODE',\n",
       " 'LIVINGAREA_MODE',\n",
       " 'LANDAREA_MEDI',\n",
       " 'AMT_INCOME_TOTAL',\n",
       " 'FLOORSMIN_MODE',\n",
       " 'LIVINGAREA_AVG',\n",
       " 'YEARS_BEGINEXPLUATATION_MODE',\n",
       " 'AMT_REQ_CREDIT_BUREAU_DAY',\n",
       " 'DEF_60_CNT_SOCIAL_CIRCLE',\n",
       " 'EXT_SOURCE_2',\n",
       " 'CNT_CHILDREN',\n",
       " 'DAYS_ID_PUBLISH',\n",
       " 'COMMONAREA_MEDI',\n",
       " 'CNT_FAM_MEMBERS',\n",
       " 'AMT_REQ_CREDIT_BUREAU_MON',\n",
       " 'ENTRANCES_AVG',\n",
       " 'ENTRANCES_MODE',\n",
       " 'AMT_ANNUITY',\n",
       " 'DEF_30_CNT_SOCIAL_CIRCLE',\n",
       " 'NONLIVINGAREA_AVG',\n",
       " 'FLOORSMAX_MEDI',\n",
       " 'AMT_REQ_CREDIT_BUREAU_WEEK',\n",
       " 'NONLIVINGAREA_MEDI',\n",
       " 'BASEMENTAREA_AVG']"
      ]
     },
     "execution_count": 14,
     "metadata": {},
     "output_type": "execute_result"
    }
   ],
   "source": [
    "numerical_columns"
   ]
  },
  {
   "cell_type": "code",
   "execution_count": 15,
   "metadata": {},
   "outputs": [],
   "source": [
    "# add target column\n",
    "df_application_train[['TARGET'] + numerical_columns].to_csv(\n",
    "    path_join(\n",
    "        filename='application_train_numerical.csv',\n",
    "        path_to_folder=path_to_data,\n",
    "    )\n",
    ")\n",
    "\n",
    "df_application_test[numerical_columns].to_csv(\n",
    "    path_join(\n",
    "        filename='application_test_numerical.csv',\n",
    "        path_to_folder=path_to_data,\n",
    "    )\n",
    ")"
   ]
  },
  {
   "cell_type": "code",
   "execution_count": null,
   "metadata": {},
   "outputs": [],
   "source": []
  }
 ],
 "metadata": {
  "kernelspec": {
   "display_name": "Python 3",
   "language": "python",
   "name": "python3"
  },
  "language_info": {
   "codemirror_mode": {
    "name": "ipython",
    "version": 3
   },
   "file_extension": ".py",
   "mimetype": "text/x-python",
   "name": "python",
   "nbconvert_exporter": "python",
   "pygments_lexer": "ipython3",
   "version": "3.9.1"
  }
 },
 "nbformat": 4,
 "nbformat_minor": 2
}
