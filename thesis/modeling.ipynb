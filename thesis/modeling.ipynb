{
 "cells": [
  {
   "cell_type": "code",
   "execution_count": 1,
   "metadata": {
    "id": "vaajMn0koGJl"
   },
   "outputs": [],
   "source": [
    "import matplotlib.pyplot as plt\n",
    "from imblearn.under_sampling import RandomUnderSampler\n",
    "\n",
    "from sklearn.preprocessing import StandardScaler, LabelEncoder\n",
    "from sklearn.metrics import precision_recall_curve\n",
    "\n",
    "from sklearn.linear_model import LogisticRegression\n",
    "from sklearn.model_selection import cross_val_score, StratifiedKFold, train_test_split\n",
    "from sklearn.metrics import classification_report\n",
    "\n",
    "from utils import load_train_test"
   ]
  },
  {
   "cell_type": "code",
   "execution_count": 2,
   "metadata": {
    "id": "o6TeWjr1oGJn"
   },
   "outputs": [],
   "source": [
    "train_filename = \"application_train.csv\"\n",
    "test_filename = \"application_test.csv\"\n",
    "path_to_data = \"../data/\""
   ]
  },
  {
   "cell_type": "markdown",
   "metadata": {},
   "source": [
    "### load train/test"
   ]
  },
  {
   "cell_type": "code",
   "execution_count": 3,
   "metadata": {},
   "outputs": [],
   "source": [
    "df_application_train = load_train_test(\n",
    "    filename=train_filename,\n",
    "    path_to_train_folder=path_to_data,\n",
    ")\n",
    "df_application_test = load_train_test(\n",
    "    filename=test_filename,\n",
    "    path_to_train_folder=path_to_data,\n",
    ")"
   ]
  },
  {
   "cell_type": "markdown",
   "metadata": {
    "id": "RriBLa8WoGJv"
   },
   "source": [
    "### select features"
   ]
  },
  {
   "cell_type": "code",
   "execution_count": 4,
   "metadata": {
    "id": "imAa5cwZoGJv"
   },
   "outputs": [],
   "source": [
    "# 23 features and y\n",
    "features = [\n",
    "    'TARGET',\n",
    "    'NAME_CONTRACT_TYPE',\n",
    "    'CODE_GENDER',\n",
    "    'FLAG_OWN_CAR',\n",
    "    'FLAG_OWN_REALTY',\n",
    "    'CNT_CHILDREN',\n",
    "    'AMT_INCOME_TOTAL',\n",
    "    'AMT_CREDIT',\n",
    "    'AMT_ANNUITY',\n",
    "    'AMT_GOODS_PRICE',\n",
    "    'NAME_TYPE_SUITE',\n",
    "    'NAME_INCOME_TYPE',\n",
    "    'NAME_FAMILY_STATUS',\n",
    "    'DAYS_BIRTH',\n",
    "    'DAYS_EMPLOYED',\n",
    "    'DAYS_REGISTRATION',\n",
    "    'DAYS_ID_PUBLISH',\n",
    "    'FLAG_MOBIL',\n",
    "    'FLAG_EMP_PHONE',\n",
    "    'FLAG_WORK_PHONE',\n",
    "    'FLAG_CONT_MOBILE',\n",
    "    'FLAG_PHONE',\n",
    "    'FLAG_EMAIL',\n",
    "    'CNT_FAM_MEMBERS',\n",
    "]"
   ]
  },
  {
   "cell_type": "code",
   "execution_count": 5,
   "metadata": {
    "id": "qw22BWbboGJw",
    "scrolled": true
   },
   "outputs": [],
   "source": [
    "df_train = df_application_train[features]\n",
    "df_test = df_application_test[features[1:]]"
   ]
  },
  {
   "cell_type": "code",
   "execution_count": 6,
   "metadata": {
    "id": "Q2XI53zXoGJy",
    "scrolled": true
   },
   "outputs": [
    {
     "data": {
      "text/plain": [
       "TARGET                   0\n",
       "NAME_CONTRACT_TYPE       0\n",
       "CODE_GENDER              0\n",
       "FLAG_OWN_CAR             0\n",
       "FLAG_OWN_REALTY          0\n",
       "CNT_CHILDREN             0\n",
       "AMT_INCOME_TOTAL         0\n",
       "AMT_CREDIT               0\n",
       "AMT_ANNUITY             12\n",
       "AMT_GOODS_PRICE        278\n",
       "NAME_TYPE_SUITE       1292\n",
       "NAME_INCOME_TYPE         0\n",
       "NAME_FAMILY_STATUS       0\n",
       "DAYS_BIRTH               0\n",
       "DAYS_EMPLOYED            0\n",
       "DAYS_REGISTRATION        0\n",
       "DAYS_ID_PUBLISH          0\n",
       "FLAG_MOBIL               0\n",
       "FLAG_EMP_PHONE           0\n",
       "FLAG_WORK_PHONE          0\n",
       "FLAG_CONT_MOBILE         0\n",
       "FLAG_PHONE               0\n",
       "FLAG_EMAIL               0\n",
       "CNT_FAM_MEMBERS          2\n",
       "dtype: int64"
      ]
     },
     "execution_count": 6,
     "metadata": {},
     "output_type": "execute_result"
    }
   ],
   "source": [
    "df_train.isna().sum()"
   ]
  },
  {
   "cell_type": "code",
   "execution_count": 7,
   "metadata": {
    "scrolled": true
   },
   "outputs": [
    {
     "data": {
      "text/plain": [
       "NAME_CONTRACT_TYPE      0\n",
       "CODE_GENDER             0\n",
       "FLAG_OWN_CAR            0\n",
       "FLAG_OWN_REALTY         0\n",
       "CNT_CHILDREN            0\n",
       "AMT_INCOME_TOTAL        0\n",
       "AMT_CREDIT              0\n",
       "AMT_ANNUITY            24\n",
       "AMT_GOODS_PRICE         0\n",
       "NAME_TYPE_SUITE       911\n",
       "NAME_INCOME_TYPE        0\n",
       "NAME_FAMILY_STATUS      0\n",
       "DAYS_BIRTH              0\n",
       "DAYS_EMPLOYED           0\n",
       "DAYS_REGISTRATION       0\n",
       "DAYS_ID_PUBLISH         0\n",
       "FLAG_MOBIL              0\n",
       "FLAG_EMP_PHONE          0\n",
       "FLAG_WORK_PHONE         0\n",
       "FLAG_CONT_MOBILE        0\n",
       "FLAG_PHONE              0\n",
       "FLAG_EMAIL              0\n",
       "CNT_FAM_MEMBERS         0\n",
       "dtype: int64"
      ]
     },
     "execution_count": 7,
     "metadata": {},
     "output_type": "execute_result"
    }
   ],
   "source": [
    "df_test.isna().sum()"
   ]
  },
  {
   "cell_type": "code",
   "execution_count": 8,
   "metadata": {
    "id": "pQ2xKnH2oGJz"
   },
   "outputs": [],
   "source": [
    "df_train = df_train.dropna()"
   ]
  },
  {
   "cell_type": "markdown",
   "metadata": {},
   "source": [
    "### processing"
   ]
  },
  {
   "cell_type": "code",
   "execution_count": 9,
   "metadata": {
    "id": "WELcNZSgoGJ0",
    "scrolled": true
   },
   "outputs": [],
   "source": [
    "df_train = df_train[df_train['CODE_GENDER'].isin(['M', 'F'])]\n",
    "df_test = df_test[df_test['CODE_GENDER'].isin(['M', 'F'])]"
   ]
  },
  {
   "cell_type": "code",
   "execution_count": 10,
   "metadata": {},
   "outputs": [],
   "source": [
    "# label encoding\n",
    "label_encoding_columns = [\n",
    "    'NAME_CONTRACT_TYPE',\n",
    "    'CODE_GENDER',\n",
    "    'FLAG_OWN_CAR',\n",
    "    'FLAG_OWN_REALTY',\n",
    "    'NAME_TYPE_SUITE',\n",
    "    'NAME_INCOME_TYPE',\n",
    "    'NAME_FAMILY_STATUS',\n",
    "]\n",
    "\n",
    "label_encoding_dict = {}\n",
    "\n",
    "for column in label_encoding_columns:\n",
    "    label_encoding_dict[column] = LabelEncoder()\n",
    "    df_train[column] = label_encoding_dict[column].fit_transform(df_train[column])"
   ]
  },
  {
   "cell_type": "code",
   "execution_count": 11,
   "metadata": {
    "id": "F6zvlVkFoGKC",
    "scrolled": true
   },
   "outputs": [],
   "source": [
    "# make positive\n",
    "for column in ['DAYS_BIRTH', 'DAYS_EMPLOYED', 'DAYS_REGISTRATION', 'DAYS_ID_PUBLISH']:\n",
    "    df_train[column] = -1 * df_train[column]\n",
    "    df_test[column] = -1 * df_test[column]"
   ]
  },
  {
   "cell_type": "code",
   "execution_count": 12,
   "metadata": {
    "id": "S4xXqDt6oGKJ"
   },
   "outputs": [],
   "source": [
    "# drop DAYS_EMPLOYED == 350K\n",
    "df_train = df_train[df_train['DAYS_EMPLOYED'] >= 0]"
   ]
  },
  {
   "cell_type": "markdown",
   "metadata": {
    "id": "muwie2KNoGKJ"
   },
   "source": [
    "### modeling"
   ]
  },
  {
   "cell_type": "code",
   "execution_count": 13,
   "metadata": {
    "id": "tWno-DAWoGKK"
   },
   "outputs": [],
   "source": [
    "X = df_train.drop(['TARGET'], axis=1)\n",
    "y = df_train['TARGET']"
   ]
  },
  {
   "cell_type": "code",
   "execution_count": 14,
   "metadata": {
    "id": "hKE2AQf3oGKK"
   },
   "outputs": [],
   "source": [
    "X_train, X_test, y_train, y_test = train_test_split(\n",
    "    X, y, test_size=0.33, random_state=42, stratify=y\n",
    ")"
   ]
  },
  {
   "cell_type": "code",
   "execution_count": 15,
   "metadata": {
    "id": "KvXymv6_oGKK"
   },
   "outputs": [
    {
     "data": {
      "text/plain": [
       "LogisticRegression(class_weight='balanced')"
      ]
     },
     "execution_count": 15,
     "metadata": {},
     "output_type": "execute_result"
    }
   ],
   "source": [
    "clf = LogisticRegression(class_weight='balanced')\n",
    "clf.fit(X=X_train, y=y_train)"
   ]
  },
  {
   "cell_type": "code",
   "execution_count": 16,
   "metadata": {
    "id": "GzktuaGaoGKL"
   },
   "outputs": [
    {
     "name": "stdout",
     "output_type": "stream",
     "text": [
      "              precision    recall  f1-score   support\n",
      "\n",
      "           0       0.93      0.57      0.71     75654\n",
      "           1       0.11      0.58      0.19      7185\n",
      "\n",
      "    accuracy                           0.57     82839\n",
      "   macro avg       0.52      0.58      0.45     82839\n",
      "weighted avg       0.86      0.57      0.67     82839\n",
      "\n"
     ]
    }
   ],
   "source": [
    "print(\n",
    "    classification_report(\n",
    "        y_pred=clf.predict(X_test),\n",
    "        y_true=y_test,\n",
    "    )\n",
    ")"
   ]
  },
  {
   "cell_type": "markdown",
   "metadata": {},
   "source": [
    "### precision/recall"
   ]
  },
  {
   "cell_type": "code",
   "execution_count": 17,
   "metadata": {
    "id": "xUk2C5GZoGKL"
   },
   "outputs": [],
   "source": [
    "precision, recall, thresholds = precision_recall_curve(\n",
    "    y_true=y_test,\n",
    "    probas_pred=clf.predict_proba(X_test)[:, 0],\n",
    ")"
   ]
  },
  {
   "cell_type": "code",
   "execution_count": 18,
   "metadata": {
    "id": "cs3hR3oPoGKL"
   },
   "outputs": [
    {
     "name": "stderr",
     "output_type": "stream",
     "text": [
      "<ipython-input-18-e6802973f98f>:18: RuntimeWarning: invalid value encountered in true_divide\n",
      "  plt.plot(thresholds, 2*precision[:-1]*recall[:-1]/(precision[:-1]+recall[:-1]), label='f1')\n"
     ]
    },
    {
     "data": {
      "image/png": "[encoded data removed]",
      "text/plain": [
       "<Figure size 720x360 with 2 Axes>"
      ]
     },
     "metadata": {
      "needs_background": "light"
     },
     "output_type": "display_data"
    }
   ],
   "source": [
    "plt.figure(figsize=(10, 5))\n",
    "\n",
    "###\n",
    "plt.subplot(121)\n",
    "\n",
    "plt.step(recall, precision)\n",
    "\n",
    "plt.xlabel('recall')\n",
    "plt.ylabel('precision')\n",
    "\n",
    "plt.grid()\n",
    "\n",
    "###\n",
    "plt.subplot(122)\n",
    "\n",
    "plt.plot(thresholds, precision[:-1], label='precision')\n",
    "plt.plot(thresholds, recall[:-1], label='recall')\n",
    "plt.plot(thresholds, 2*precision[:-1]*recall[:-1]/(precision[:-1]+recall[:-1]), label='f1')\n",
    "\n",
    "plt.xlabel('thresholds')\n",
    "plt.ylabel('precision / recall/ f1')\n",
    "\n",
    "plt.legend()\n",
    "plt.grid()"
   ]
  },
  {
   "cell_type": "code",
   "execution_count": 19,
   "metadata": {
    "id": "T2YYgH_uoGKn",
    "scrolled": true
   },
   "outputs": [],
   "source": [
    "# correlation reduction: 7 features left\n",
    "df_train = df_train.drop([\n",
    "    'AMT_GOODS_PRICE',\n",
    "    'CNT_FAM_MEMBERS',\n",
    "    'AMT_ANNUITY',\n",
    "],\n",
    "    axis=1,\n",
    ")\n",
    "\n",
    "df_test = df_test.drop([\n",
    "    'AMT_GOODS_PRICE',\n",
    "    'CNT_FAM_MEMBERS',\n",
    "    'AMT_ANNUITY',\n",
    "],\n",
    "    axis=1,\n",
    ")"
   ]
  },
  {
   "cell_type": "markdown",
   "metadata": {
    "id": "VMY3upt7oGKn"
   },
   "source": [
    "### fir model"
   ]
  },
  {
   "cell_type": "code",
   "execution_count": 20,
   "metadata": {
    "id": "oZbtpkOaoGKo"
   },
   "outputs": [],
   "source": [
    "X_train_sample, y_train_sample = RandomUnderSampler().fit_resample(\n",
    "    X=X_train,\n",
    "    y=y_train,\n",
    ")"
   ]
  },
  {
   "cell_type": "code",
   "execution_count": 21,
   "metadata": {},
   "outputs": [],
   "source": [
    "X_train_sample_normed = StandardScaler().fit_transform(X_train_sample)"
   ]
  },
  {
   "cell_type": "code",
   "execution_count": 22,
   "metadata": {
    "id": "H9vAaynOoGKp"
   },
   "outputs": [],
   "source": [
    "clf = LogisticRegression()"
   ]
  },
  {
   "cell_type": "code",
   "execution_count": 23,
   "metadata": {
    "id": "-MlahlS9oGKp"
   },
   "outputs": [],
   "source": [
    "cv = StratifiedKFold(n_splits=5)"
   ]
  },
  {
   "cell_type": "code",
   "execution_count": 24,
   "metadata": {
    "id": "pXlXoUVZoGKp"
   },
   "outputs": [
    {
     "name": "stdout",
     "output_type": "stream",
     "text": [
      "accuracy: 0.611\n",
      "precision: 0.604\n",
      "recall: 0.647\n",
      "f1: 0.625\n"
     ]
    }
   ],
   "source": [
    "for score in ['accuracy', 'precision', 'recall', 'f1']:\n",
    "    result = cross_val_score(\n",
    "        estimator=clf,\n",
    "        X=X_train_sample_normed,\n",
    "        y=y_train_sample,\n",
    "        scoring=score,\n",
    "        cv=cv,\n",
    "    )\n",
    "    \n",
    "    print(f\"{score}: {round(result.mean(), 3)}\")"
   ]
  },
  {
   "cell_type": "code",
   "execution_count": null,
   "metadata": {
    "id": "zG29jT3NoGMP"
   },
   "outputs": [],
   "source": []
  }
 ],
 "metadata": {
  "colab": {
   "name": "MINI.ipynb",
   "provenance": []
  },
  "kernelspec": {
   "display_name": "Python 3",
   "language": "python",
   "name": "python3"
  },
  "language_info": {
   "codemirror_mode": {
    "name": "ipython",
    "version": 3
   },
   "file_extension": ".py",
   "mimetype": "text/x-python",
   "name": "python",
   "nbconvert_exporter": "python",
   "pygments_lexer": "ipython3",
   "version": "3.9.1"
  }
 },
 "nbformat": 4,
 "nbformat_minor": 1
}
